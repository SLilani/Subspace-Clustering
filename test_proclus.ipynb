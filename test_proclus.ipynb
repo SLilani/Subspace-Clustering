{
 "cells": [
  {
   "cell_type": "code",
   "execution_count": 1,
   "metadata": {
    "collapsed": false,
    "deletable": true,
    "editable": true
   },
   "outputs": [],
   "source": [
    "import bib.outils as outils\n",
    "import bib.proclus as proclus\n",
    "import bib.dataplayer as dt"
   ]
  },
  {
   "cell_type": "code",
   "execution_count": 2,
   "metadata": {
    "collapsed": false,
    "deletable": true,
    "editable": true
   },
   "outputs": [
    {
     "name": "stdout",
     "output_type": "stream",
     "text": [
      "Valeur optimale trouvée :  0.0388535035385\n",
      "\n",
      "\n",
      "Ensemble des centroides :  [[-0.0031573544546987702, 0.067161994913888245], [0.9985085040837518, -0.064937313529872046]]\n",
      "\n",
      "\n",
      "Ensemble des dimentions par cluster : {0: [0], 1: [0]}\n",
      "\n",
      "\n",
      "Affectation des points ,  0  : [0, 1, 2, 3, 4, 5, 6, 7, 8, 9, 10, 11, 12, 13, 14, 15, 16, 17, 18, 19, 20, 21, 22, 23, 24, 25, 26, 27, 28, 29, 30, 31, 32, 33, 34, 35, 36, 37, 38, 39, 40, 41, 42, 43, 44, 45, 46, 47, 48, 49]\n",
      "\n",
      "\n",
      "Affectation des points ,  1  : [50, 51, 52, 53, 54, 55, 56, 57, 58, 59, 60, 61, 62, 63, 64, 65, 66, 67, 68, 69, 70, 71, 72, 73, 74, 75, 76, 77, 78, 79, 80, 81, 82, 83, 84, 85, 86, 87, 88, 89, 90, 91, 92, 93, 94, 95, 96, 97, 98, 99]\n",
      "\n",
      "\n"
     ]
    }
   ],
   "source": [
    "parametres = [2,outils.euclidienne,0.01,40]\n",
    "data = dt.create_gauss_vertical(50)\n",
    "proclus.apply_proc(data , parametres)"
   ]
  },
  {
   "cell_type": "code",
   "execution_count": 3,
   "metadata": {
    "collapsed": false
   },
   "outputs": [
    {
     "name": "stdout",
     "output_type": "stream",
     "text": [
      "Valeur optimale trouvée :  0.0980572107966\n",
      "\n",
      "\n",
      "Ensemble des centroides :  [[0.0043966558209701913, -0.22325993500273106], [0.99407767143717096, -0.01516497530201914]]\n",
      "\n",
      "\n",
      "Ensemble des dimentions par cluster : {0: [0], 1: [0, 1]}\n",
      "\n",
      "\n",
      "Affectation des points ,  0  : [0, 1, 2, 3, 4, 5, 6, 7, 8, 9, 10, 11, 12, 13, 14, 15, 16, 17, 18, 19, 20, 21, 22, 23, 24, 25, 26, 27, 28, 29, 30, 31, 32, 33, 34, 35, 36, 37, 38, 39, 40, 41, 42, 43, 44, 45, 46, 47, 48, 49]\n",
      "\n",
      "\n",
      "Affectation des points ,  1  : [50, 51, 52, 53, 54, 55, 56, 57, 58, 59, 60, 61, 62, 63, 64, 65, 66, 67, 68, 69, 70, 71, 72, 73, 74, 75, 76, 77, 78, 79, 80, 81, 82, 83, 84, 85, 86, 87, 88, 89, 90, 91, 92, 93, 94, 95, 96, 97, 98, 99]\n",
      "\n",
      "\n"
     ]
    }
   ],
   "source": [
    "parametres = [2,outils.euclidienne,0.01,40]\n",
    "data = dt.create_gauss_vertical_cent(50)\n",
    "proclus.apply_proc(data , parametres)"
   ]
  },
  {
   "cell_type": "code",
   "execution_count": null,
   "metadata": {
    "collapsed": false
   },
   "outputs": [
    {
     "name": "stdout",
     "output_type": "stream",
     "text": [
      "Valeur optimale trouvée :  0.0295091861248\n",
      "\n",
      "\n",
      "Ensemble des centroides :  [[-0.033653904401559777, 0.0092897647295593685], [0.19735820544874089, 1.0080041805748388]]\n",
      "\n",
      "\n",
      "Ensemble des dimentions par cluster : {0: [1], 1: [1]}\n",
      "\n",
      "\n",
      "Affectation des points ,  0  : [50, 51, 52, 53, 54, 55, 56, 57, 58, 59, 60, 61, 62, 63, 64, 65, 66, 67, 68, 69, 70, 71, 72, 73, 74, 75, 76, 77, 78, 79, 80, 81, 82, 83, 84, 85, 86, 87, 88, 89, 90, 91, 92, 93, 94, 95, 96, 97, 98, 99]\n",
      "\n",
      "\n",
      "Affectation des points ,  1  : [0, 1, 2, 3, 4, 5, 6, 7, 8, 9, 10, 11, 12, 13, 14, 15, 16, 17, 18, 19, 20, 21, 22, 23, 24, 25, 26, 27, 28, 29, 30, 31, 32, 33, 34, 35, 36, 37, 38, 39, 40, 41, 42, 43, 44, 45, 46, 47, 48, 49]\n",
      "\n",
      "\n"
     ]
    }
   ],
   "source": [
    "parametres = [2,outils.euclidienne,0.01,40]\n",
    "data = dt.create_gauss_horizontal(50)\n",
    "proclus.apply_proc(data , parametres)"
   ]
  },
  {
   "cell_type": "code",
   "execution_count": null,
   "metadata": {
    "collapsed": false
   },
   "outputs": [],
   "source": [
    "parametres = [2,outils.euclidienne,0.01,40]\n",
    "data = dt. create_gauss_horizontal_cent(50)\n",
    "proclus.apply_proc(data , parametres)"
   ]
  },
  {
   "cell_type": "code",
   "execution_count": null,
   "metadata": {
    "collapsed": false,
    "deletable": true,
    "editable": true
   },
   "outputs": [],
   "source": [
    "parametres = [2,outils.euclidienne,0.01,40]\n",
    "data = dt. create_gauss_cross(50)\n",
    "proclus.apply_proc(data , parametres)"
   ]
  },
  {
   "cell_type": "code",
   "execution_count": null,
   "metadata": {
    "collapsed": false,
    "deletable": true,
    "editable": true
   },
   "outputs": [],
   "source": [
    "parametres = [2,outils.euclidienne,0.01,40]\n",
    "data = dt.cr\n",
    "proclus.apply_proc(data , parametres)"
   ]
  },
  {
   "cell_type": "code",
   "execution_count": null,
   "metadata": {
    "collapsed": false
   },
   "outputs": [],
   "source": [
    "parametres = [4,outils.euclidienne,0.01,40]\n",
    "data = dt. create_xor(50,0.01)\n",
    "proclus.apply_proc(data , parametres)"
   ]
  },
  {
   "cell_type": "code",
   "execution_count": null,
   "metadata": {
    "collapsed": false
   },
   "outputs": [],
   "source": [
    "data = outils.read_file(\"donne_mod.csv\")\n",
    "parametres = [2,outils.euclidienne,0.08,40]\n",
    "proclus.apply_proc(data , parametres)"
   ]
  }
 ],
 "metadata": {
  "kernelspec": {
   "display_name": "Python 2",
   "language": "python",
   "name": "python2"
  },
  "language_info": {
   "codemirror_mode": {
    "name": "ipython",
    "version": 2
   },
   "file_extension": ".py",
   "mimetype": "text/x-python",
   "name": "python",
   "nbconvert_exporter": "python",
   "pygments_lexer": "ipython2",
   "version": "2.7.9"
  }
 },
 "nbformat": 4,
 "nbformat_minor": 0
}
