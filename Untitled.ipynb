{
 "cells": [
  {
   "cell_type": "code",
   "execution_count": 1,
   "metadata": {
    "collapsed": true
   },
   "outputs": [],
   "source": [
    "import numpy as np\n",
    "import pandas as pd\n",
    "from datetime import datetime as dt\n",
    "import matplotlib.pyplot as plt\n",
    "%matplotlib inline  \n",
    "import math\n",
    "import random"
   ]
  },
  {
   "cell_type": "markdown",
   "metadata": {},
   "source": [
    "### Géneration de  jeux de données \n",
    "\n",
    "\n",
    "\n"
   ]
  },
  {
   "cell_type": "code",
   "execution_count": 216,
   "metadata": {
    "collapsed": false
   },
   "outputs": [],
   "source": [
    "# Fonction de normalisation des données \n",
    "def normalisation(dff) :\n",
    "    df = dff.copy()\n",
    "    for i in df.columns :\n",
    "        mi = min(df[i])\n",
    "        ma = max(df[i])\n",
    "        df[i] =  (df[i]- mi) / (ma - mi)\n",
    "    \n",
    "    return df\n",
    "\n",
    "def createGaussianDataFrame(center,sigma,nb_points):\n",
    "    return pd.DataFrame(np.random.multivariate_normal(center,sigma,nb_points))\n",
    "def createXOR(nb_points,var) :\n",
    "    G1 = createGaussianDataFrame(np.array([1,1]),np.array([[var,0],[0,var]]),nb_points)\n",
    "    G2 = createGaussianDataFrame(np.array([0,0]),np.array([[var,0],[0,var]]),nb_points)\n",
    "    G3 = createGaussianDataFrame(np.array([0,1]),np.array([[var,0],[0,var]]),nb_points)\n",
    "    G4 = createGaussianDataFrame(np.array([1,0]),np.array([[var,0],[0,var]]),nb_points)\n",
    "    return G1.append(G2.append(G3.append(G4,ignore_index=True),ignore_index=True),ignore_index = True)\n",
    "def createParal(nb_points,var1,var2) :\n",
    "    G1 = createGaussianDataFrame(np.array([1,0.6]),np.array([[var1,var2],[var2,var1]]),nb_points)\n",
    "    G2 = createGaussianDataFrame(np.array([1,0.4]),np.array([[var1,var2],[var2,var1]]),nb_points)\n",
    "    return G1.append(G2,ignore_index = True)"
   ]
  },
  {
   "cell_type": "markdown",
   "metadata": {},
   "source": [
    "### ALGORITHME K-MEANS :"
   ]
  },
  {
   "cell_type": "code",
   "execution_count": 107,
   "metadata": {
    "collapsed": false
   },
   "outputs": [],
   "source": [
    "# fonction de caclcul de deux points données \n",
    "# prend une fonction de calcul de distance en paramétre \n",
    "def distance(fdist,x1,x2):\n",
    "    return fdist(x1,x2)\n",
    "\n",
    "\n",
    "# fonction de caclcul de distance euclidienne entre deux points \n",
    "def euclidienne(x1,x2):\n",
    "    return math.sqrt(pow(x2.values-x1.values,2).sum())\n",
    "\n",
    "\n",
    "# fonction de caclcul de distance de mannathan entre deux points \n",
    "def mannathan(x1,x2):\n",
    "    return abs(x2.values-x1.values).sum()\n",
    "\n",
    "\n",
    "# fonction de calcul d'un centroide \n",
    "def centroide(df) :\n",
    "    return pd.DataFrame(np.mean(df)).T\n",
    "\n",
    "\n",
    "# Fonction inertie_cluster qui, étant donné une chaîne de caractères donnant le nom de la distance à utiliser,\n",
    "# et un DataFrame contenant un ensemble d'exemples, rend la valeur de l'inertie de cet ensemble.\n",
    "def inertie_cluster(fdist,df) :\n",
    "    inertieCluster = 0\n",
    "    centroide_ = centroide(df)\n",
    "    for i,ligne in df.iterrows() :\n",
    "        inertieCluster += pow(distance(fdist,centroide_,pd.DataFrame(ligne).T),2)\n",
    "    return inertieCluster\n",
    "\n",
    "\n",
    "# Fonction choix_depart() qui étant donné un entier K>1 et une base d'apprentissage (sous la forme d'un DataFrame)\n",
    "# de n exemples rend ensemble de centroides contenant K exemples tirés aléatoirement dans la base.\n",
    "def choix_depart(k,df) :\n",
    "    v = [i for i in range(0,len(df))]\n",
    "    random.shuffle(v)\n",
    "    return pd.DataFrame(df.iloc [v[0:k]])\n",
    "\n",
    "# Fonction plus_proche() qui, étant donné une fonction de distance à utiliser,\n",
    "# un exemple et un ensemble de centroides,\n",
    "# rend l'indice (dans l'ensemble) du centroide dont l'exemple est le plus proche. En cas d'égalité de distance, \n",
    "# le centroide de plus petit indice est choisi.\n",
    "\n",
    "def plus_proche(fdist,x,centroides):\n",
    "    distanceMinimum = -1\n",
    "    indiceMin = 0\n",
    "    for i,ligne in centroides.iterrows():\n",
    "        distance_ = distance(fdist,x,pd.DataFrame(ligne).T)\n",
    "        if (distanceMinimum > distance_ or distanceMinimum < 0) :\n",
    "            distanceMinimum = distance_\n",
    "            indiceMin = i\n",
    "    return indiceMin\n",
    "\n",
    "\n",
    "# Fonction affecte_cluster() qui, étant donné un nom de distance,\n",
    "# une base d'apprentissage et un ensemble de centroïdes,\n",
    "# rend la matrice d'affectation des exemples de la base aux clusters représentés par chaque centroïde.\n",
    "def affecte_cluster(fdist, base, centroides):\n",
    "    d = {}\n",
    "    for i , c in centroides.iterrows():\n",
    "        d[i]=[]\n",
    "    for j,x in base.iterrows():\n",
    "            centroideProche = plus_proche(fdist,pd.DataFrame(x).T,centroides)\n",
    "            d[centroideProche].append(j)\n",
    "    return d\n",
    "\n",
    "#Fonction nouveaux_centroides() qui, étant donné un chaîne de caractères donnant le nom d'une distance,\n",
    "# une base d'apprentissage et une matrice d'affectation, rend l'ensemble des centroides correspondant.\n",
    "def nouveaux_centroides(fdist,base,dic):\n",
    "    new_centroides = pd.DataFrame()\n",
    "    c = []\n",
    "    for i in dic.keys():\n",
    "        c = dic[i]\n",
    "        new_centroides = new_centroides.append(centroide(pd.DataFrame(base.iloc[c[0:]])),ignore_index=True) \n",
    "    return new_centroides\n",
    "\n",
    "# Fonction inertie_cluster(), écrire la fonction inertie_globale() qui,\n",
    "# étant donné un nom de distance, une base d'apprentissage et une matrice d'affectation,\n",
    "# rend la valeur de l'inertie globale du partitionnement correspondant.\n",
    "def inertie_globale(fdist,base,dicAffectation):\n",
    "    inertieGlobale = 0\n",
    "    for i in dicAffectation.keys():\n",
    "        ine = inertie_cluster(fdist,pd.DataFrame(dicAffectation[i]))\n",
    "        inertieGlobale += ine\n",
    "    return inertieGlobale\n",
    "\n",
    "\n",
    "#############################  Algorithme des K-moyennes  ###################################################\n",
    "#    Fonction kmoyennes() qui prend en argument un entier K>1, une base d'apprentissage, un nom de distance,#\n",
    "#    ainsi que deux nombres: un réel epsilon>0 et un entier iter_max>1,                                     #\n",
    "#    et qui rend un ensemble de centroides et une matrice d'affectation.                                    #\n",
    "#############################################################################################################\n",
    "\n",
    "def kmoyennes(k,base,fdist,epsilon,iter_max) :\n",
    "    \n",
    "    #variables\n",
    "    iter = 0\n",
    "    new_centroides = {}\n",
    "    dict_affectation = {}\n",
    "    \n",
    "    # initialisation \n",
    "    clusters_init = choix_depart(k,base)\n",
    "    dict_affectation = affecte_cluster(fdist,base,clusters_init)\n",
    "    \n",
    "    #Boucle\n",
    "    convergence = 1\n",
    "    while(convergence > epsilon and iter < iter_max ) :\n",
    "        new_centroides = nouveaux_centroides(fdist,base,dict_affectation)\n",
    "        convergence = inertie_globale(fdist,base,dict_affectation)\n",
    "        dict_affectation = affecte_cluster(fdist,base,new_centroides)\n",
    "        convergence = abs(convergence - inertie_globale(fdist,base,dict_affectation))\n",
    "        iter += 1\n",
    "    \n",
    "    return new_centroides,dict_affectation,iter,convergence\n",
    "    "
   ]
  },
  {
   "cell_type": "code",
   "execution_count": 130,
   "metadata": {
    "collapsed": false
   },
   "outputs": [],
   "source": [
    "import matplotlib\n",
    "import colorsys\n",
    "\n",
    "def AffichagesClusters(centroides,dictAffectation,base):\n",
    "    \n",
    "    M_data2D = base.as_matrix()\n",
    "    colonne_X= M_data2D[0:,0]\n",
    "    colonne_Y= M_data2D[0:,1]\n",
    "    #Nombre de couluers\n",
    "    colorNbr = len(centroides)\n",
    "    #Choix aléatoire des couleurs\n",
    "    colorNames = list(matplotlib.colors.cnames.keys())\n",
    "    colors = [i for i in range(len(colorNames))]\n",
    "    random.shuffle(colors)\n",
    "    colors =colors[0:colorNbr] \n",
    "    \n",
    "    \n",
    "    colorMap = [] \n",
    "    for i in range(colorNbr) :\n",
    "        colorMap.append(colorNames[colors[i]])\n",
    "    colorMap = np.array(colorMap)\n",
    "    \n",
    "    categories = np.zeros(len(base))\n",
    "    categories = np.array(categories)\n",
    "    for key,values in dictAffectation.items() :\n",
    "        for indice in values :\n",
    "            categories[indice] = int(key)\n",
    "    categories = categories.astype(int)\n",
    "    \n",
    "    plt.scatter(colonne_X,colonne_Y,s=100,c=colorMap[categories.astype(int)])\n",
    "    \n",
    "    #Affichage des centroides finaux en noir \n",
    "    M_data2D = centroides.as_matrix()\n",
    "    colonne_X= M_data2D[0:,0]\n",
    "    colonne_Y= M_data2D[0:,1]\n",
    "    plt.scatter(colonne_X,colonne_Y,color='black')\n",
    "# Fonction d'affichage des résultats\n",
    "def affichageResults(les_centres, l_affectation,nb_iter,convergence) :\n",
    "    print(\"Le nombre d'itération : \",nb_iter)\n",
    "    print(\"convergence : \", convergence)\n",
    "    print(\"Les centres : \\n\",les_centres)\n",
    "    print(\"Les affectations : \\n\")\n",
    "\n",
    "    for c,v in l_affectation.items() :\n",
    "        print(\"Cluster\",c,\" : \",v)\n",
    "\n",
    "    AffichagesClusters(les_centres, l_affectation,points)"
   ]
  },
  {
   "cell_type": "code",
   "execution_count": 209,
   "metadata": {
    "collapsed": false
   },
   "outputs": [],
   "source": [
    "points = createXOR(50,0.01)\n",
    "les_centres, l_affectation,nb_iter,convergence = kmoyennes(4, points, euclidienne, 0.15,50)"
   ]
  },
  {
   "cell_type": "code",
   "execution_count": 211,
   "metadata": {
    "collapsed": false
   },
   "outputs": [
    {
     "name": "stdout",
     "output_type": "stream",
     "text": [
      "Le nombre d'itération :  3\n",
      "convergence :  0.0\n",
      "Les centres : \n",
      "           0         1\n",
      "0  0.011545 -0.005831\n",
      "1  1.002239  0.022974\n",
      "2  0.021674  0.984119\n",
      "3  1.003169  1.005413\n",
      "Les affectations : \n",
      "\n",
      "Cluster 0  :  [50, 51, 52, 53, 54, 55, 56, 57, 58, 59, 60, 61, 62, 63, 64, 65, 66, 67, 68, 69, 70, 71, 72, 73, 74, 75, 76, 77, 78, 79, 80, 81, 82, 83, 84, 85, 86, 87, 88, 89, 90, 91, 92, 93, 94, 95, 96, 97, 98, 99]\n",
      "Cluster 1  :  [150, 151, 152, 153, 154, 155, 156, 157, 158, 159, 160, 161, 162, 163, 164, 165, 166, 167, 168, 169, 170, 171, 172, 173, 174, 175, 176, 177, 178, 179, 180, 181, 182, 183, 184, 185, 186, 187, 188, 189, 190, 191, 192, 193, 194, 195, 196, 197, 198, 199]\n",
      "Cluster 2  :  [100, 101, 102, 103, 104, 105, 106, 107, 108, 109, 110, 111, 112, 113, 114, 115, 116, 117, 118, 119, 120, 121, 122, 123, 124, 125, 126, 127, 128, 129, 130, 131, 132, 133, 134, 135, 136, 137, 138, 139, 140, 141, 142, 143, 144, 145, 146, 147, 148, 149]\n",
      "Cluster 3  :  [0, 1, 2, 3, 4, 5, 6, 7, 8, 9, 10, 11, 12, 13, 14, 15, 16, 17, 18, 19, 20, 21, 22, 23, 24, 25, 26, 27, 28, 29, 30, 31, 32, 33, 34, 35, 36, 37, 38, 39, 40, 41, 42, 43, 44, 45, 46, 47, 48, 49]\n"
     ]
    },
    {
     "data": {
      "image/png": "[encoded data removed]",
      "text/plain": [
       "<matplotlib.figure.Figure at 0x111340e80>"
      ]
     },
     "metadata": {},
     "output_type": "display_data"
    }
   ],
   "source": [
    "affichageResults(les_centres, l_affectation,nb_iter,convergence)"
   ]
  },
  {
   "cell_type": "code",
   "execution_count": 220,
   "metadata": {
    "collapsed": false
   },
   "outputs": [],
   "source": [
    "points = createParal(20,0.01,0.01)\n",
    "les_centres, l_affectation,nb_iter,convergence = kmoyennes(2, points, euclidienne, 0.15,100)\n",
    "    "
   ]
  },
  {
   "cell_type": "code",
   "execution_count": 221,
   "metadata": {
    "collapsed": false
   },
   "outputs": [
    {
     "name": "stdout",
     "output_type": "stream",
     "text": [
      "Le nombre d'itération :  5\n",
      "convergence :  0.0\n",
      "Les centres : \n",
      "           0         1\n",
      "0  0.916072  0.386660\n",
      "1  1.060688  0.582428\n",
      "Les affectations : \n",
      "\n",
      "Cluster 0  :  [0, 9, 10, 13, 15, 18, 20, 22, 23, 25, 26, 27, 31, 32, 35, 37, 39]\n",
      "Cluster 1  :  [1, 2, 3, 4, 5, 6, 7, 8, 11, 12, 14, 16, 17, 19, 21, 24, 28, 29, 30, 33, 34, 36, 38]\n"
     ]
    },
    {
     "data": {
      "image/png": "[encoded data removed]",
      "text/plain": [
       "<matplotlib.figure.Figure at 0x111741da0>"
      ]
     },
     "metadata": {},
     "output_type": "display_data"
    }
   ],
   "source": [
    "\n",
    "affichageResults(les_centres, l_affectation,nb_iter,convergence)"
   ]
  }
 ],
 "metadata": {
  "kernelspec": {
   "display_name": "Python 3",
   "language": "python",
   "name": "python3"
  },
  "language_info": {
   "codemirror_mode": {
    "name": "ipython",
    "version": 3
   },
   "file_extension": ".py",
   "mimetype": "text/x-python",
   "name": "python",
   "nbconvert_exporter": "python",
   "pygments_lexer": "ipython3",
   "version": "3.6.0"
  }
 },
 "nbformat": 4,
 "nbformat_minor": 2
}
